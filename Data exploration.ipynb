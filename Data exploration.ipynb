{
 "cells": [
  {
   "cell_type": "markdown",
   "metadata": {},
   "source": [
    "## Data Exploration\n",
    "In this noteboook we explore the data we got on in the test file. \n",
    "We will observe some statistics of the data and visualize it."
   ]
  },
  {
   "cell_type": "code",
   "execution_count": 1,
   "metadata": {},
   "outputs": [],
   "source": [
    "# dependencies\n",
    "import numpy as np # linear algebra\n",
    "import pandas as pd # data processing, CSV file I/O (e.g. pd.read_csv)\n",
    "import os\n",
    "import seaborn as sns\n",
    "import glob\n",
    "import matplotlib.pyplot as plt\n",
    "\n",
    "import warnings\n",
    "warnings.simplefilter(action='ignore', category=FutureWarning)"
   ]
  },
  {
   "cell_type": "code",
   "execution_count": 2,
   "metadata": {},
   "outputs": [],
   "source": [
    "# helper class to print nice outputs\n",
    "class txt:\n",
    "   BOLD = '\\033[1m'\n",
    "   UNDERLINE = '\\033[4m'\n",
    "   END = '\\033[0m'\n",
    "\n",
    "def make_bold(text):\n",
    "    return txt.BOLD+ text + txt.END\n",
    "\n",
    "def make_underline(text):\n",
    "    return txt.UNDERLINE+ text + txt.END"
   ]
  },
  {
   "cell_type": "markdown",
   "metadata": {},
   "source": [
    "First, lets take a look on the train file which contains 2 colums- segment_id, and the time_to_eruption . "
   ]
  },
  {
   "cell_type": "code",
   "execution_count": 3,
   "metadata": {},
   "outputs": [
    {
     "data": {
      "text/html": [
       "<div>\n",
       "<style scoped>\n",
       "    .dataframe tbody tr th:only-of-type {\n",
       "        vertical-align: middle;\n",
       "    }\n",
       "\n",
       "    .dataframe tbody tr th {\n",
       "        vertical-align: top;\n",
       "    }\n",
       "\n",
       "    .dataframe thead th {\n",
       "        text-align: right;\n",
       "    }\n",
       "</style>\n",
       "<table border=\"1\" class=\"dataframe\">\n",
       "  <thead>\n",
       "    <tr style=\"text-align: right;\">\n",
       "      <th></th>\n",
       "      <th>segment_id</th>\n",
       "      <th>time_to_eruption</th>\n",
       "    </tr>\n",
       "  </thead>\n",
       "  <tbody>\n",
       "    <tr>\n",
       "      <th>0</th>\n",
       "      <td>1136037770</td>\n",
       "      <td>12262005</td>\n",
       "    </tr>\n",
       "    <tr>\n",
       "      <th>1</th>\n",
       "      <td>1969647810</td>\n",
       "      <td>32739612</td>\n",
       "    </tr>\n",
       "    <tr>\n",
       "      <th>2</th>\n",
       "      <td>1895879680</td>\n",
       "      <td>14965999</td>\n",
       "    </tr>\n",
       "    <tr>\n",
       "      <th>3</th>\n",
       "      <td>2068207140</td>\n",
       "      <td>26469720</td>\n",
       "    </tr>\n",
       "    <tr>\n",
       "      <th>4</th>\n",
       "      <td>192955606</td>\n",
       "      <td>31072429</td>\n",
       "    </tr>\n",
       "  </tbody>\n",
       "</table>\n",
       "</div>"
      ],
      "text/plain": [
       "   segment_id  time_to_eruption\n",
       "0  1136037770          12262005\n",
       "1  1969647810          32739612\n",
       "2  1895879680          14965999\n",
       "3  2068207140          26469720\n",
       "4   192955606          31072429"
      ]
     },
     "execution_count": 3,
     "metadata": {},
     "output_type": "execute_result"
    }
   ],
   "source": [
    "train=pd.read_csv('train.csv')\n",
    "train.head()"
   ]
  },
  {
   "cell_type": "code",
   "execution_count": 4,
   "metadata": {
    "scrolled": true
   },
   "outputs": [
    {
     "data": {
      "image/png": "[encoded data removed]",
      "text/plain": [
       "<Figure size 432x288 with 1 Axes>"
      ]
     },
     "metadata": {
      "needs_background": "light"
     },
     "output_type": "display_data"
    }
   ],
   "source": [
    "f=sns.histplot(data=train, x=\"time_to_eruption\",kde=True).set_title('distribution of time to eruption')\n"
   ]
  },
  {
   "cell_type": "markdown",
   "metadata": {},
   "source": [
    "We can tell that the time to eruption vary from 0 to 5e7 , when not many segments has time of 5e7, so it may be some outlier (we will observe it later on)"
   ]
  },
  {
   "cell_type": "markdown",
   "metadata": {},
   "source": [
    "Next. we want to explore how the train files looks like"
   ]
  },
  {
   "cell_type": "code",
   "execution_count": 5,
   "metadata": {
    "scrolled": true
   },
   "outputs": [
    {
     "data": {
      "text/plain": [
       "['test\\\\1000213997.csv',\n",
       " 'test\\\\100023368.csv',\n",
       " 'test\\\\1000488999.csv',\n",
       " 'test\\\\1001028887.csv',\n",
       " 'test\\\\1001857862.csv']"
      ]
     },
     "execution_count": 5,
     "metadata": {},
     "output_type": "execute_result"
    }
   ],
   "source": [
    "train_files=glob.glob(\"test/*\")\n",
    "train_files[:5]"
   ]
  },
  {
   "cell_type": "code",
   "execution_count": 6,
   "metadata": {
    "scrolled": true
   },
   "outputs": [
    {
     "data": {
      "text/plain": [
       "['train\\\\1000015382.csv',\n",
       " 'train\\\\1000554676.csv',\n",
       " 'train\\\\1000745424.csv',\n",
       " 'train\\\\1001461087.csv',\n",
       " 'train\\\\1001732002.csv']"
      ]
     },
     "execution_count": 6,
     "metadata": {},
     "output_type": "execute_result"
    }
   ],
   "source": [
    "test_files = glob.glob(\"train/*\")\n",
    "test_files[:5]"
   ]
  },
  {
   "cell_type": "markdown",
   "metadata": {},
   "source": [
    "So we can tell that each file represent the segment_id .\n",
    "Now let's check how many files we have for test and train , and check if there any segments that both in train and test files"
   ]
  },
  {
   "cell_type": "code",
   "execution_count": 7,
   "metadata": {
    "scrolled": true
   },
   "outputs": [
    {
     "name": "stdout",
     "output_type": "stream",
     "text": [
      "\u001b[1mNumber of train files:\u001b[0m 4520\n",
      "\u001b[1mNumber of test files:\u001b[0m 4431\n",
      "\u001b[1mSegment ids both in train and test are:\u001b[0m []\n"
     ]
    }
   ],
   "source": [
    "print(make_bold(\"Number of train files:\"), len(train_files))\n",
    "print(make_bold(\"Number of test files:\"), len(test_files))\n",
    "\n",
    "duplicated_segment_id = [segment_id for segment_id in [test_segment_id.split(\"/\")[-1] for test_segment_id in train_files]\n",
    "                         if (segment_id in [ train_segment_id.split(\"/\")[-1] for train_segment_id in test_files])]\n",
    "\n",
    "print(make_bold(\"Segment ids both in train and test are:\"), duplicated_segment_id)"
   ]
  },
  {
   "cell_type": "markdown",
   "metadata": {},
   "source": [
    "We can tell that the number of train and test data is approximaly the same size (difference of only 200 samples) and the segment ids for train and test data is completely different."
   ]
  },
  {
   "cell_type": "markdown",
   "metadata": {},
   "source": [
    "Next, lets find out how a single file looks like."
   ]
  },
  {
   "cell_type": "code",
   "execution_count": 8,
   "metadata": {
    "scrolled": true
   },
   "outputs": [
    {
     "data": {
      "text/html": [
       "<div>\n",
       "<style scoped>\n",
       "    .dataframe tbody tr th:only-of-type {\n",
       "        vertical-align: middle;\n",
       "    }\n",
       "\n",
       "    .dataframe tbody tr th {\n",
       "        vertical-align: top;\n",
       "    }\n",
       "\n",
       "    .dataframe thead th {\n",
       "        text-align: right;\n",
       "    }\n",
       "</style>\n",
       "<table border=\"1\" class=\"dataframe\">\n",
       "  <thead>\n",
       "    <tr style=\"text-align: right;\">\n",
       "      <th></th>\n",
       "      <th>sensor_1</th>\n",
       "      <th>sensor_2</th>\n",
       "      <th>sensor_3</th>\n",
       "      <th>sensor_4</th>\n",
       "      <th>sensor_5</th>\n",
       "      <th>sensor_6</th>\n",
       "      <th>sensor_7</th>\n",
       "      <th>sensor_8</th>\n",
       "      <th>sensor_9</th>\n",
       "      <th>sensor_10</th>\n",
       "    </tr>\n",
       "  </thead>\n",
       "  <tbody>\n",
       "    <tr>\n",
       "      <th>0</th>\n",
       "      <td>960.0</td>\n",
       "      <td>204.0</td>\n",
       "      <td>-129.0</td>\n",
       "      <td>281.0</td>\n",
       "      <td>128.0</td>\n",
       "      <td>288.0</td>\n",
       "      <td>179.0</td>\n",
       "      <td>284.0</td>\n",
       "      <td>-1126.0</td>\n",
       "      <td>-2520.0</td>\n",
       "    </tr>\n",
       "    <tr>\n",
       "      <th>1</th>\n",
       "      <td>928.0</td>\n",
       "      <td>234.0</td>\n",
       "      <td>-81.0</td>\n",
       "      <td>238.0</td>\n",
       "      <td>91.0</td>\n",
       "      <td>-937.0</td>\n",
       "      <td>54.0</td>\n",
       "      <td>38.0</td>\n",
       "      <td>-821.0</td>\n",
       "      <td>-2537.0</td>\n",
       "    </tr>\n",
       "    <tr>\n",
       "      <th>2</th>\n",
       "      <td>907.0</td>\n",
       "      <td>329.0</td>\n",
       "      <td>-42.0</td>\n",
       "      <td>204.0</td>\n",
       "      <td>60.0</td>\n",
       "      <td>-899.0</td>\n",
       "      <td>-12.0</td>\n",
       "      <td>254.0</td>\n",
       "      <td>-480.0</td>\n",
       "      <td>-2527.0</td>\n",
       "    </tr>\n",
       "    <tr>\n",
       "      <th>3</th>\n",
       "      <td>884.0</td>\n",
       "      <td>426.0</td>\n",
       "      <td>-36.0</td>\n",
       "      <td>164.0</td>\n",
       "      <td>59.0</td>\n",
       "      <td>886.0</td>\n",
       "      <td>-2.0</td>\n",
       "      <td>155.0</td>\n",
       "      <td>-384.0</td>\n",
       "      <td>-2489.0</td>\n",
       "    </tr>\n",
       "    <tr>\n",
       "      <th>4</th>\n",
       "      <td>898.0</td>\n",
       "      <td>568.0</td>\n",
       "      <td>3.0</td>\n",
       "      <td>99.0</td>\n",
       "      <td>96.0</td>\n",
       "      <td>791.0</td>\n",
       "      <td>42.0</td>\n",
       "      <td>120.0</td>\n",
       "      <td>-414.0</td>\n",
       "      <td>-2406.0</td>\n",
       "    </tr>\n",
       "  </tbody>\n",
       "</table>\n",
       "</div>"
      ],
      "text/plain": [
       "   sensor_1  sensor_2  sensor_3  sensor_4  sensor_5  sensor_6  sensor_7  \\\n",
       "0     960.0     204.0    -129.0     281.0     128.0     288.0     179.0   \n",
       "1     928.0     234.0     -81.0     238.0      91.0    -937.0      54.0   \n",
       "2     907.0     329.0     -42.0     204.0      60.0    -899.0     -12.0   \n",
       "3     884.0     426.0     -36.0     164.0      59.0     886.0      -2.0   \n",
       "4     898.0     568.0       3.0      99.0      96.0     791.0      42.0   \n",
       "\n",
       "   sensor_8  sensor_9  sensor_10  \n",
       "0     284.0   -1126.0    -2520.0  \n",
       "1      38.0    -821.0    -2537.0  \n",
       "2     254.0    -480.0    -2527.0  \n",
       "3     155.0    -384.0    -2489.0  \n",
       "4     120.0    -414.0    -2406.0  "
      ]
     },
     "execution_count": 8,
     "metadata": {},
     "output_type": "execute_result"
    }
   ],
   "source": [
    "# chooe random train file \n",
    "segment_id=train.sample()\n",
    "segment_id=segment_id.iloc[0].segment_id\n",
    "df_segment_id = pd.read_csv(f'train/{segment_id}.csv') \n",
    "df_segment_id.head()"
   ]
  },
  {
   "cell_type": "markdown",
   "metadata": {},
   "source": [
    "Each segment id consider information of 10 sensors. We can tell there is some missing data, for exaple sensor 9 and sensor 3 is complitly missing in this file. \n",
    "We we cop with missing data in the future, but for now we would like to understand some statistics about the sensors."
   ]
  },
  {
   "cell_type": "markdown",
   "metadata": {},
   "source": [
    "### Data Visualization:\n",
    "We would like to get a sense how each sensor distributed.\n",
    "First, we chose 3 random train files and make a boxplot"
   ]
  },
  {
   "cell_type": "code",
   "execution_count": 9,
   "metadata": {},
   "outputs": [
    {
     "data": {
      "image/png": "[encoded data removed]",
      "text/plain": [
       "<Figure size 720x360 with 1 Axes>"
      ]
     },
     "metadata": {
      "needs_background": "light"
     },
     "output_type": "display_data"
    },
    {
     "data": {
      "image/png": "[encoded data removed]",
      "text/plain": [
       "<Figure size 720x360 with 1 Axes>"
      ]
     },
     "metadata": {
      "needs_background": "light"
     },
     "output_type": "display_data"
    },
    {
     "data": {
      "image/png": "[encoded data removed]",
      "text/plain": [
       "<Figure size 720x360 with 1 Axes>"
      ]
     },
     "metadata": {
      "needs_background": "light"
     },
     "output_type": "display_data"
    }
   ],
   "source": [
    "num_of_trains=3;\n",
    "rows=train.sample(num_of_trains) \n",
    "for i in range(num_of_trains):\n",
    "    segment_id=rows.iloc[i].segment_id\n",
    "    fig = plt.figure(figsize=(10, 5))\n",
    "    df_segment_id = pd.read_csv(f'train/{segment_id}.csv') \n",
    "    boxplot = df_segment_id.boxplot(column=[f'sensor_{j}' for j in range(1,11)])\n",
    "    plt.title(f'segment_id:{segment_id}')\n"
   ]
  },
  {
   "cell_type": "markdown",
   "metadata": {},
   "source": [
    "Now, we take another 3 train files and plot their sensor distribution"
   ]
  },
  {
   "cell_type": "code",
   "execution_count": 10,
   "metadata": {},
   "outputs": [],
   "source": [
    "def crete_distplot(segment_id):\n",
    "    df = pd.read_csv(f'train/{segment_id}.csv') \n",
    "    graphs = []\n",
    "\n",
    "    for i in range(0, 9 , 5):\n",
    "        idxs = list(np.array([0, 1, 2, 3, 4]) + i)\n",
    "\n",
    "        fig, axs = plt.subplots(1, 5, sharey=True)\n",
    "        for k, item in enumerate(idxs):\n",
    "            g = sns.distplot(df[f\"sensor_{item+1}\"], ax=axs[k], color=\"y\")\n",
    "            g.set_title(f\"sensor: {item+1}\")\n",
    "            g.set(ylim=(0, 0.0025))\n",
    "            graphs.append(g)"
   ]
  },
  {
   "cell_type": "code",
   "execution_count": 11,
   "metadata": {},
   "outputs": [
    {
     "name": "stdout",
     "output_type": "stream",
     "text": [
      "\u001b[1m134592962\u001b[0m\n"
     ]
    },
    {
     "name": "stderr",
     "output_type": "stream",
     "text": [
      "C:\\Users\\Shani\\miniconda3\\envs\\nlp21\\lib\\site-packages\\numpy\\lib\\histograms.py:905: RuntimeWarning: invalid value encountered in true_divide\n",
      "  return n/db/n.sum(), bin_edges\n",
      "C:\\Users\\Shani\\miniconda3\\envs\\nlp21\\lib\\site-packages\\numpy\\lib\\histograms.py:905: RuntimeWarning: invalid value encountered in true_divide\n",
      "  return n/db/n.sum(), bin_edges\n"
     ]
    },
    {
     "data": {
      "image/png": "[encoded data removed]",
      "text/plain": [
       "<Figure size 432x288 with 5 Axes>"
      ]
     },
     "metadata": {
      "needs_background": "light"
     },
     "output_type": "display_data"
    },
    {
     "data": {
      "image/png": "[encoded data removed]",
      "text/plain": [
       "<Figure size 432x288 with 5 Axes>"
      ]
     },
     "metadata": {
      "needs_background": "light"
     },
     "output_type": "display_data"
    }
   ],
   "source": [
    "num_of_trains=1\n",
    "rows=train.sample(num_of_trains)\n",
    "\n",
    "for num_of_train in range(num_of_trains):\n",
    "    segment_id=rows.iloc[num_of_train].segment_id\n",
    "    print(make_bold(f\"{segment_id}\"))\n",
    "    crete_distplot(segment_id)"
   ]
  },
  {
   "cell_type": "markdown",
   "metadata": {},
   "source": [
    "## combine all training data\n",
    "let combine all data to one file, so we can clean the data and do some pre-proccessing before applying any model\n"
   ]
  },
  {
   "cell_type": "code",
   "execution_count": 12,
   "metadata": {},
   "outputs": [],
   "source": [
    "test_files = glob.glob(\"train/*\")\n",
    "datas = []\n",
    "\n",
    "for file in test_files:\n",
    "    df = pd.read_csv(file, index_col=None, header=0)\n",
    "    segment_id= file.split('.csv')[0]\n",
    "    datas.append(df)\n",
    "\n",
    "data = pd.concat(datas, axis=0, ignore_index=True)"
   ]
  },
  {
   "cell_type": "code",
   "execution_count": 13,
   "metadata": {
    "scrolled": true
   },
   "outputs": [
    {
     "data": {
      "text/html": [
       "<div>\n",
       "<style scoped>\n",
       "    .dataframe tbody tr th:only-of-type {\n",
       "        vertical-align: middle;\n",
       "    }\n",
       "\n",
       "    .dataframe tbody tr th {\n",
       "        vertical-align: top;\n",
       "    }\n",
       "\n",
       "    .dataframe thead th {\n",
       "        text-align: right;\n",
       "    }\n",
       "</style>\n",
       "<table border=\"1\" class=\"dataframe\">\n",
       "  <thead>\n",
       "    <tr style=\"text-align: right;\">\n",
       "      <th></th>\n",
       "      <th>sensor_1</th>\n",
       "      <th>sensor_2</th>\n",
       "      <th>sensor_3</th>\n",
       "      <th>sensor_4</th>\n",
       "      <th>sensor_5</th>\n",
       "      <th>sensor_6</th>\n",
       "      <th>sensor_7</th>\n",
       "      <th>sensor_8</th>\n",
       "      <th>sensor_9</th>\n",
       "      <th>sensor_10</th>\n",
       "    </tr>\n",
       "  </thead>\n",
       "  <tbody>\n",
       "    <tr>\n",
       "      <th>0</th>\n",
       "      <td>260.0</td>\n",
       "      <td>64.0</td>\n",
       "      <td>-232.0</td>\n",
       "      <td>-36.0</td>\n",
       "      <td>-2.0</td>\n",
       "      <td>-35.0</td>\n",
       "      <td>103.0</td>\n",
       "      <td>389.0</td>\n",
       "      <td>67.0</td>\n",
       "      <td>41.0</td>\n",
       "    </tr>\n",
       "    <tr>\n",
       "      <th>1</th>\n",
       "      <td>233.0</td>\n",
       "      <td>175.0</td>\n",
       "      <td>146.0</td>\n",
       "      <td>160.0</td>\n",
       "      <td>-4.0</td>\n",
       "      <td>29.0</td>\n",
       "      <td>-120.0</td>\n",
       "      <td>498.0</td>\n",
       "      <td>59.0</td>\n",
       "      <td>63.0</td>\n",
       "    </tr>\n",
       "    <tr>\n",
       "      <th>2</th>\n",
       "      <td>216.0</td>\n",
       "      <td>236.0</td>\n",
       "      <td>321.0</td>\n",
       "      <td>202.0</td>\n",
       "      <td>2.0</td>\n",
       "      <td>113.0</td>\n",
       "      <td>-230.0</td>\n",
       "      <td>554.0</td>\n",
       "      <td>97.0</td>\n",
       "      <td>90.0</td>\n",
       "    </tr>\n",
       "    <tr>\n",
       "      <th>3</th>\n",
       "      <td>156.0</td>\n",
       "      <td>205.0</td>\n",
       "      <td>382.0</td>\n",
       "      <td>6.0</td>\n",
       "      <td>12.0</td>\n",
       "      <td>70.0</td>\n",
       "      <td>-228.0</td>\n",
       "      <td>580.0</td>\n",
       "      <td>141.0</td>\n",
       "      <td>122.0</td>\n",
       "    </tr>\n",
       "    <tr>\n",
       "      <th>4</th>\n",
       "      <td>158.0</td>\n",
       "      <td>101.0</td>\n",
       "      <td>272.0</td>\n",
       "      <td>-154.0</td>\n",
       "      <td>16.0</td>\n",
       "      <td>45.0</td>\n",
       "      <td>-162.0</td>\n",
       "      <td>624.0</td>\n",
       "      <td>145.0</td>\n",
       "      <td>154.0</td>\n",
       "    </tr>\n",
       "  </tbody>\n",
       "</table>\n",
       "</div>"
      ],
      "text/plain": [
       "   sensor_1  sensor_2  sensor_3  sensor_4  sensor_5  sensor_6  sensor_7  \\\n",
       "0     260.0      64.0    -232.0     -36.0      -2.0     -35.0     103.0   \n",
       "1     233.0     175.0     146.0     160.0      -4.0      29.0    -120.0   \n",
       "2     216.0     236.0     321.0     202.0       2.0     113.0    -230.0   \n",
       "3     156.0     205.0     382.0       6.0      12.0      70.0    -228.0   \n",
       "4     158.0     101.0     272.0    -154.0      16.0      45.0    -162.0   \n",
       "\n",
       "   sensor_8  sensor_9  sensor_10  \n",
       "0     389.0      67.0       41.0  \n",
       "1     498.0      59.0       63.0  \n",
       "2     554.0      97.0       90.0  \n",
       "3     580.0     141.0      122.0  \n",
       "4     624.0     145.0      154.0  "
      ]
     },
     "execution_count": 13,
     "metadata": {},
     "output_type": "execute_result"
    }
   ],
   "source": [
    "data.head()"
   ]
  },
  {
   "cell_type": "markdown",
   "metadata": {},
   "source": [
    "### Missing data\n",
    "Let's look on all train data and see how much missing data we have"
   ]
  },
  {
   "cell_type": "code",
   "execution_count": 14,
   "metadata": {},
   "outputs": [],
   "source": [
    "test_files = glob.glob(\"train/*\")\n",
    "num_of_Nan=0\n",
    "for file in test_files:\n",
    "    df = pd.read_csv(file)\n",
    "    num_of_Nan+=df.isna().sum()"
   ]
  },
  {
   "cell_type": "code",
   "execution_count": 15,
   "metadata": {
    "scrolled": true
   },
   "outputs": [
    {
     "name": "stdout",
     "output_type": "stream",
     "text": [
      "\u001b[1mnumber of Nan per sensor:\n",
      "\u001b[0m sensor_1      1545802\n",
      "sensor_2     50569629\n",
      "sensor_3     26499171\n",
      "sensor_4         6210\n",
      "sensor_5     49241506\n",
      "sensor_6        88904\n",
      "sensor_7      2546627\n",
      "sensor_8     26465572\n",
      "sensor_9     10520113\n",
      "sensor_10     1895973\n",
      "dtype: int64\n"
     ]
    }
   ],
   "source": [
    "print(make_bold(\"number of Nan per sensor:\\n\"),num_of_Nan)"
   ]
  },
  {
   "cell_type": "code",
   "execution_count": 16,
   "metadata": {
    "scrolled": false
   },
   "outputs": [
    {
     "data": {
      "text/plain": [
       "Text(0, 0.5, 'number on Nan per sensor')"
      ]
     },
     "execution_count": 16,
     "metadata": {},
     "output_type": "execute_result"
    },
    {
     "data": {
      "image/png": "[encoded data removed]",
      "text/plain": [
       "<Figure size 432x288 with 1 Axes>"
      ]
     },
     "metadata": {
      "needs_background": "light"
     },
     "output_type": "display_data"
    }
   ],
   "source": [
    "Nans=num_of_Nan.to_frame()\n",
    "ax=Nans.plot.bar(title='Number of Nan values per sensor')\n",
    "ax.set_ylabel(\"number on Nan per sensor\")"
   ]
  },
  {
   "cell_type": "code",
   "execution_count": 19,
   "metadata": {},
   "outputs": [],
   "source": [
    "test_files = glob.glob(\"train/*\")\n",
    "stat_outliers=0\n",
    "cols=[]\n",
    "num_of_rows=0\n",
    "for j in range(10):\n",
    "    cols.append(f'sensor_{j+1}')\n",
    "\n",
    "outliers=pd.DataFrame(columns=cols)\n",
    "for file in test_files:\n",
    "    df = pd.read_csv(file)\n",
    "    num_of_rows+=len(df.index)\n",
    "    outs=[] \n",
    "    for j in range(10):\n",
    "        outs.append(count_outlier(df, j+1))\n",
    "\n",
    "    outliers.loc[0]=outs\n",
    "    stat_outliers+=outliers.sum()"
   ]
  },
  {
   "cell_type": "code",
   "execution_count": 20,
   "metadata": {},
   "outputs": [
    {
     "data": {
      "text/plain": [
       "0.6370897617364994"
      ]
     },
     "execution_count": 20,
     "metadata": {},
     "output_type": "execute_result"
    }
   ],
   "source": [
    "sum(num_of_Nan)/num_of_rows"
   ]
  },
  {
   "cell_type": "markdown",
   "metadata": {},
   "source": [
    "To handle the missing value,we will replace each missing value with the mean of the column when we apply feature extraction"
   ]
  },
  {
   "cell_type": "code",
   "execution_count": 18,
   "metadata": {},
   "outputs": [],
   "source": [
    "def count_outlier(df, j):\n",
    "    q1 = np.percentile(df[f\"sensor_{j}\"], 25, axis=0)\n",
    "    q3 = np.percentile(df[f\"sensor_{j}\"], 75, axis=0)\n",
    "\n",
    "    max = 2.5*q3 - 1.5*q1\n",
    "    min = -0.5*q3 - 1.5*q1\n",
    "    \n",
    "    return (len(df[f\"sensor_{j}\"][df[f\"sensor_{j}\"]  > max] + len(df[f\"sensor_{j}\"][df[f\"sensor_{j}\"]  < min])))"
   ]
  },
  {
   "cell_type": "code",
   "execution_count": 21,
   "metadata": {},
   "outputs": [
    {
     "name": "stdout",
     "output_type": "stream",
     "text": [
      "\u001b[1mNumber of outliers per sensor \n",
      "\u001b[0m sensor_1     2383048.0\n",
      "sensor_2     3891346.0\n",
      "sensor_3     2004380.0\n",
      "sensor_4     2435301.0\n",
      "sensor_5     2920901.0\n",
      "sensor_6     1340445.0\n",
      "sensor_7     2248834.0\n",
      "sensor_8     1461074.0\n",
      "sensor_9     1911212.0\n",
      "sensor_10    2699513.0\n",
      "dtype: float64\n"
     ]
    }
   ],
   "source": [
    "print(make_bold(\"Number of outliers per sensor \\n\"),stat_outliers)"
   ]
  },
  {
   "cell_type": "code",
   "execution_count": 22,
   "metadata": {
    "scrolled": false
   },
   "outputs": [
    {
     "data": {
      "text/plain": [
       "Text(0, 0.5, 'number on outiers per sensor')"
      ]
     },
     "execution_count": 22,
     "metadata": {},
     "output_type": "execute_result"
    },
    {
     "data": {
      "image/png": "[encoded data removed]",
      "text/plain": [
       "<Figure size 432x288 with 1 Axes>"
      ]
     },
     "metadata": {
      "needs_background": "light"
     },
     "output_type": "display_data"
    }
   ],
   "source": [
    "ax=stat_outliers.plot.bar(title='Number of outliers per sensor')\n",
    "ax.set_ylabel(\"number on outiers per sensor\")"
   ]
  },
  {
   "cell_type": "code",
   "execution_count": 23,
   "metadata": {},
   "outputs": [
    {
     "name": "stdout",
     "output_type": "stream",
     "text": [
      "\u001b[1mpersetage of outliers: \u001b[0m 0.08762380854173005\n"
     ]
    }
   ],
   "source": [
    "print(make_bold('persetage of outliers: '),(sum(stat_outliers)/num_of_rows))"
   ]
  },
  {
   "cell_type": "markdown",
   "metadata": {},
   "source": [
    "To handle the outliers,we will remove then when we apply feature extraction"
   ]
  },
  {
   "cell_type": "markdown",
   "metadata": {},
   "source": [
    "Now that we got some sense about the data we are dealing with , we will do feature extraction.\n",
    "Feature extraction can be found in \"Feature_Extraction\" notebook"
   ]
  }
 ],
 "metadata": {
  "kernelspec": {
   "display_name": "Python 3",
   "language": "python",
   "name": "python3"
  },
  "language_info": {
   "codemirror_mode": {
    "name": "ipython",
    "version": 3
   },
   "file_extension": ".py",
   "mimetype": "text/x-python",
   "name": "python",
   "nbconvert_exporter": "python",
   "pygments_lexer": "ipython3",
   "version": "3.8.5"
  }
 },
 "nbformat": 4,
 "nbformat_minor": 4
}
